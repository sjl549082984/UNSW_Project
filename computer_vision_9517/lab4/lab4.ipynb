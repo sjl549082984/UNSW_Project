{
 "cells": [
  {
   "cell_type": "code",
   "execution_count": 1,
   "metadata": {},
   "outputs": [],
   "source": [
    "import matplotlib.pyplot as plt\n",
    "import numpy as np\n",
    "\n",
    "from sklearn import metrics\n",
    "from sklearn.datasets import load_digits\n",
    "from sklearn.model_selection import train_test_split\n",
    "from sklearn.neighbors import KNeighborsClassifier\n",
    "from sklearn.ensemble import RandomForestClassifier\n",
    "import sklearn.svm as svm\n",
    "from sklearn.model_selection import cross_val_score"
   ]
  },
  {
   "cell_type": "code",
   "execution_count": 12,
   "metadata": {},
   "outputs": [],
   "source": [
    "digits = load_digits()"
   ]
  },
  {
   "cell_type": "code",
   "execution_count": 13,
   "metadata": {},
   "outputs": [
    {
     "name": "stdout",
     "output_type": "stream",
     "text": [
      "(1797, 64)\n"
     ]
    }
   ],
   "source": [
    "print(digits.data.shape)"
   ]
  },
  {
   "cell_type": "code",
   "execution_count": 14,
   "metadata": {},
   "outputs": [
    {
     "data": {
      "image/png": "[encoded data removed]",
      "text/plain": [
       "<Figure size 216x216 with 1 Axes>"
      ]
     },
     "metadata": {
      "needs_background": "light"
     },
     "output_type": "display_data"
    }
   ],
   "source": [
    "plt.figure(1, figsize=(3, 3))\n",
    "plt.imshow(digits.images[0], cmap=plt.cm.gray_r, interpolation='nearest')\n",
    "plt.show()"
   ]
  },
  {
   "cell_type": "code",
   "execution_count": 15,
   "metadata": {},
   "outputs": [
    {
     "name": "stdout",
     "output_type": "stream",
     "text": [
      "[0 1 2 3 4 5 6 7 8 9]\n"
     ]
    }
   ],
   "source": [
    "print(digits.target_names)"
   ]
  },
  {
   "cell_type": "code",
   "execution_count": 16,
   "metadata": {},
   "outputs": [
    {
     "data": {
      "text/plain": [
       "(64,)"
      ]
     },
     "execution_count": 16,
     "metadata": {},
     "output_type": "execute_result"
    }
   ],
   "source": [
    "digits.data[0].shape"
   ]
  },
  {
   "cell_type": "code",
   "execution_count": 17,
   "metadata": {},
   "outputs": [],
   "source": [
    "x_train, x_test, y_train, y_test = train_test_split(digits.data, digits.target,test_size=0.3, random_state=0)"
   ]
  },
  {
   "cell_type": "code",
   "execution_count": 18,
   "metadata": {},
   "outputs": [
    {
     "name": "stdout",
     "output_type": "stream",
     "text": [
      "distance4\n"
     ]
    }
   ],
   "source": [
    "weights=['uniform','distance']\n",
    "result = {}\n",
    "for k in range(1,14):\n",
    "    for w in weights:\n",
    "        knn = KNeighborsClassifier(n_neighbors=k,weights=w)\n",
    "        sm = cross_val_score(knn, digits.data, digits.target, scoring='accuracy', cv = 6).mean()\n",
    "        result[w + str(k)] = sm\n",
    "print(list(result)[np.array(list(result.values())).argmax()])\n",
    "\n",
    "# as we can see from the result weights = distance, n_neighbors = 4 is the best choise."
   ]
  },
  {
   "cell_type": "code",
   "execution_count": 19,
   "metadata": {},
   "outputs": [
    {
     "name": "stdout",
     "output_type": "stream",
     "text": [
      "KNN:\n",
      "Accuracy:  0.987037 \n",
      "Recall: 0.987488\n",
      " \n",
      "Matrix:\n",
      "[[45  0  0  0  0  0  0  0  0  0]\n",
      " [ 0 52  0  0  0  0  0  0  0  0]\n",
      " [ 0  0 52  0  0  0  0  1  0  0]\n",
      " [ 0  0  0 54  0  0  0  0  0  0]\n",
      " [ 0  0  0  0 47  0  0  1  0  0]\n",
      " [ 0  0  0  0  0 55  1  0  0  1]\n",
      " [ 0  0  0  0  0  0 60  0  0  0]\n",
      " [ 0  0  0  0  0  0  0 53  0  0]\n",
      " [ 0  0  0  1  0  0  1  0 59  0]\n",
      " [ 0  0  0  0  0  1  0  0  0 56]]\n"
     ]
    }
   ],
   "source": [
    "model = KNeighborsClassifier(n_neighbors=4,weights='distance')\n",
    "model.fit(x_train, y_train)\n",
    "# predict the test data\n",
    "y_prd_knn = model.predict(x_test)\n",
    "print(\"KNN:\\nAccuracy:  %f \\nRecall: %f\\n \" % (metrics.accuracy_score(y_test, y_prd_knn), metrics.recall_score(y_test, y_prd_knn, average='macro')))\n",
    "print(\"Matrix:\")\n",
    "print(metrics.confusion_matrix(y_test, y_prd_knn))"
   ]
  },
  {
   "cell_type": "code",
   "execution_count": null,
   "metadata": {},
   "outputs": [],
   "source": []
  },
  {
   "cell_type": "code",
   "execution_count": 20,
   "metadata": {},
   "outputs": [
    {
     "name": "stdout",
     "output_type": "stream",
     "text": [
      "SVM:\n",
      "Accuracy:  0.990741 \n",
      "Recall: 0.991246 \n",
      " \n",
      "Matrix:\n",
      "[[45  0  0  0  0  0  0  0  0  0]\n",
      " [ 0 52  0  0  0  0  0  0  0  0]\n",
      " [ 0  0 53  0  0  0  0  0  0  0]\n",
      " [ 0  0  0 53  0  0  0  0  1  0]\n",
      " [ 0  0  0  0 48  0  0  0  0  0]\n",
      " [ 0  0  0  0  0 55  1  0  0  1]\n",
      " [ 0  0  0  0  0  0 60  0  0  0]\n",
      " [ 0  0  0  0  0  0  0 53  0  0]\n",
      " [ 0  1  0  0  0  0  0  0 60  0]\n",
      " [ 0  0  0  0  0  1  0  0  0 56]]\n"
     ]
    }
   ],
   "source": [
    "svm_clf = svm.SVC()\n",
    "svm_clf.fit(x_train, y_train)\n",
    "y_prd_svm = svm_clf.predict(x_test)\n",
    "print(\"SVM:\\nAccuracy:  %f \\nRecall: %f \\n \" % (metrics.accuracy_score(y_test, y_prd_svm), metrics.recall_score(y_test, y_prd_svm, average='macro')))\n",
    "print(\"Matrix:\")\n",
    "print(metrics.confusion_matrix(y_test, y_prd_svm))"
   ]
  },
  {
   "cell_type": "code",
   "execution_count": 21,
   "metadata": {},
   "outputs": [
    {
     "name": "stdout",
     "output_type": "stream",
     "text": [
      "rf:\n",
      "Accuracy:  0.974074 \n",
      "Recall: 0.974508 \n",
      " \n",
      "Matrix:\n",
      "[[45  0  0  0  0  0  0  0  0  0]\n",
      " [ 0 50  0  0  0  1  0  0  0  1]\n",
      " [ 1  1 50  1  0  0  0  0  0  0]\n",
      " [ 0  0  0 53  0  0  0  0  1  0]\n",
      " [ 0  0  0  0 47  0  0  1  0  0]\n",
      " [ 0  0  0  1  0 54  1  0  0  1]\n",
      " [ 0  0  0  0  0  0 60  0  0  0]\n",
      " [ 0  0  0  0  0  0  0 53  0  0]\n",
      " [ 0  1  0  1  0  0  0  0 59  0]\n",
      " [ 0  0  0  0  0  2  0  0  0 55]]\n"
     ]
    }
   ],
   "source": [
    "rf_clf = RandomForestClassifier()\n",
    "rf_clf.fit(x_train, y_train)\n",
    "y_prd_rf = rf_clf.predict(x_test)\n",
    "print(\"rf:\\nAccuracy:  %f \\nRecall: %f \\n \" % (metrics.accuracy_score(y_test, y_prd_rf), metrics.recall_score(y_test, y_prd_rf, average='macro')))\n",
    "print(\"Matrix:\")\n",
    "print(metrics.confusion_matrix(y_test, y_prd_rf))"
   ]
  },
  {
   "cell_type": "code",
   "execution_count": 22,
   "metadata": {},
   "outputs": [
    {
     "name": "stdout",
     "output_type": "stream",
     "text": [
      "KNN:\n",
      "Accuracy:  0.987037 \n",
      "Recall: 0.987488\n",
      " \n",
      "SVM:\n",
      "Accuracy:  0.990741 \n",
      "Recall: 0.991246 \n",
      " \n",
      "rf:\n",
      "Accuracy:  0.974074 \n",
      "Recall: 0.974508 \n",
      " \n"
     ]
    }
   ],
   "source": [
    "print(\"KNN:\\nAccuracy:  %f \\nRecall: %f\\n \" % (metrics.accuracy_score(y_test, y_prd_knn), metrics.recall_score(y_test, y_prd_knn, average='macro')))\n",
    "print(\"SVM:\\nAccuracy:  %f \\nRecall: %f \\n \" % (metrics.accuracy_score(y_test, y_prd_svm), metrics.recall_score(y_test, y_prd_svm, average='macro')))\n",
    "print(\"rf:\\nAccuracy:  %f \\nRecall: %f \\n \" % (metrics.accuracy_score(y_test, y_prd_rf), metrics.recall_score(y_test, y_prd_rf, average='macro')))\n"
   ]
  },
  {
   "cell_type": "code",
   "execution_count": 23,
   "metadata": {},
   "outputs": [
    {
     "name": "stdout",
     "output_type": "stream",
     "text": [
      "SVM_Matrix:\n",
      "[[45  0  0  0  0  0  0  0  0  0]\n",
      " [ 0 52  0  0  0  0  0  0  0  0]\n",
      " [ 0  0 53  0  0  0  0  0  0  0]\n",
      " [ 0  0  0 53  0  0  0  0  1  0]\n",
      " [ 0  0  0  0 48  0  0  0  0  0]\n",
      " [ 0  0  0  0  0 55  1  0  0  1]\n",
      " [ 0  0  0  0  0  0 60  0  0  0]\n",
      " [ 0  0  0  0  0  0  0 53  0  0]\n",
      " [ 0  1  0  0  0  0  0  0 60  0]\n",
      " [ 0  0  0  0  0  1  0  0  0 56]]\n"
     ]
    }
   ],
   "source": [
    "print(\"SVM_Matrix:\")\n",
    "print(metrics.confusion_matrix(y_test, y_prd_svm))"
   ]
  },
  {
   "cell_type": "code",
   "execution_count": null,
   "metadata": {},
   "outputs": [],
   "source": []
  },
  {
   "cell_type": "code",
   "execution_count": null,
   "metadata": {},
   "outputs": [],
   "source": []
  },
  {
   "cell_type": "code",
   "execution_count": null,
   "metadata": {},
   "outputs": [],
   "source": []
  }
 ],
 "metadata": {
  "kernelspec": {
   "display_name": "Python 3",
   "language": "python",
   "name": "python3"
  },
  "language_info": {
   "codemirror_mode": {
    "name": "ipython",
    "version": 3
   },
   "file_extension": ".py",
   "mimetype": "text/x-python",
   "name": "python",
   "nbconvert_exporter": "python",
   "pygments_lexer": "ipython3",
   "version": "3.8.3"
  }
 },
 "nbformat": 4,
 "nbformat_minor": 4
}
